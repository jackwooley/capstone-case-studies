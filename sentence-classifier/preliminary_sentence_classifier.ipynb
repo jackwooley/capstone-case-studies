{
 "cells": [
  {
   "cell_type": "code",
   "execution_count": 11,
   "metadata": {
    "pycharm": {
     "name": "#%%\n"
    }
   },
   "outputs": [
    {
     "name": "stdout",
     "output_type": "stream",
     "text": [
      "Collecting xgboost\n",
      "  Downloading xgboost-1.7.4-py3-none-manylinux2014_x86_64.whl (193.6 MB)\n",
      "\u001B[K     |████████████████████████████████| 193.6 MB 9.8 MB/s eta 0:00:014    |███████████████                 | 90.3 MB 9.5 MB/s eta 0:00:11     |██████████████████████▏         | 134.4 MB 8.6 MB/s eta 0:00:07\n",
      "\u001B[?25hRequirement already satisfied: scipy in ./.local/lib/python3.8/site-packages (from xgboost) (1.7.1)\n",
      "Requirement already satisfied: numpy in ./.local/lib/python3.8/site-packages (from xgboost) (1.20.2)\n",
      "Installing collected packages: xgboost\n",
      "Successfully installed xgboost-1.7.4\n"
     ]
    }
   ],
   "source": [
    "!pip install xgboost"
   ]
  },
  {
   "cell_type": "code",
   "execution_count": 44,
   "metadata": {
    "pycharm": {
     "name": "#%%\n"
    }
   },
   "outputs": [],
   "source": [
    "import pandas as pd\n",
    "from sklearn.neighbors import KNeighborsClassifier\n",
    "from sklearn.model_selection import train_test_split\n",
    "from sklearn.metrics import accuracy_score\n",
    "import xgboost as xgb\n",
    "\n",
    "sentences = pd.read_csv('Sentence_Annotation_Assignments_Final_Dataset.tsv', sep='\t')\n",
    "sentences.drop(['id', 'text', 'source'], axis=1, inplace=True)"
   ]
  },
  {
   "cell_type": "markdown",
   "metadata": {
    "pycharm": {
     "name": "#%% md\n"
    }
   },
   "source": [
    "### Trying to predict satisfaction based on everything else"
   ]
  },
  {
   "cell_type": "code",
   "execution_count": 42,
   "metadata": {
    "pycharm": {
     "name": "#%%\n"
    }
   },
   "outputs": [],
   "source": [
    "targets = ['satisfaction_bucket', 'considerateness_bucket', 'dedication_bucket', 'emotion_bucket']\n",
    "accuracies = {}\n",
    "\n",
    "for i in targets:\n",
    "    y_ = sentences[i]\n",
    "    X_ = sentences.drop([i], axis=1)\n",
    "    X_train_, X_test_, y_train_, y_test_ = train_test_split(X_, y_)\n",
    "    knn_ = KNeighborsClassifier()\n",
    "    knn_.fit(X_train_, y_train_)\n",
    "    \n",
    "    knn_preds_ = knn_.predict(X_test_)\n",
    "    accuracies[i] = accuracy_score(knn_preds_, y_test_)"
   ]
  },
  {
   "cell_type": "code",
   "execution_count": 43,
   "metadata": {
    "pycharm": {
     "name": "#%%\n"
    }
   },
   "outputs": [
    {
     "data": {
      "text/plain": [
       "{'satisfaction_bucket': 0.9138381201044387,\n",
       " 'considerateness_bucket': 0.9151436031331592,\n",
       " 'dedication_bucket': 0.9255874673629243,\n",
       " 'emotion_bucket': 0.9138381201044387}"
      ]
     },
     "execution_count": 43,
     "metadata": {},
     "output_type": "execute_result"
    }
   ],
   "source": [
    "accuracies"
   ]
  },
  {
   "cell_type": "code",
   "execution_count": 45,
   "metadata": {
    "pycharm": {
     "name": "#%%\n"
    }
   },
   "outputs": [],
   "source": [
    "xgb_targets = ['satisfaction_bucket', 'considerateness_bucket', 'dedication_bucket', 'emotion_bucket']\n",
    "xgb_accuracies = {}\n",
    "\n",
    "for i in xgb_targets:\n",
    "    xgb_y_ = sentences[i] - 1\n",
    "    xgb_X_ = sentences.drop([i], axis=1)\n",
    "    xgb_X_train_, xgb_X_test_, xgb_y_train_, xgb_y_test_ = train_test_split(xgb_X_, xgb_y_)\n",
    "    xgb_ = xgb.XGBClassifier()\n",
    "    xgb_.fit(xgb_X_train_, xgb_y_train_)\n",
    "    \n",
    "    xgb_preds_ = xgb_.predict(xgb_X_test_)\n",
    "    xgb_accuracies[i] = accuracy_score(xgb_preds_, xgb_y_test_)"
   ]
  },
  {
   "cell_type": "code",
   "execution_count": 46,
   "metadata": {
    "pycharm": {
     "name": "#%%\n"
    }
   },
   "outputs": [
    {
     "data": {
      "text/plain": [
       "{'satisfaction_bucket': 1.0,\n",
       " 'considerateness_bucket': 0.9986945169712794,\n",
       " 'dedication_bucket': 0.9986945169712794,\n",
       " 'emotion_bucket': 1.0}"
      ]
     },
     "execution_count": 46,
     "metadata": {},
     "output_type": "execute_result"
    }
   ],
   "source": [
    "xgb_accuracies"
   ]
  },
  {
   "cell_type": "code",
   "execution_count": null,
   "metadata": {
    "pycharm": {
     "name": "#%%\n"
    }
   },
   "outputs": [],
   "source": []
  }
 ],
 "metadata": {
  "kernelspec": {
   "display_name": "Python 3 (ipykernel)",
   "language": "python",
   "name": "python3"
  },
  "language_info": {
   "codemirror_mode": {
    "name": "ipython",
    "version": 3
   },
   "file_extension": ".py",
   "mimetype": "text/x-python",
   "name": "python",
   "nbconvert_exporter": "python",
   "pygments_lexer": "ipython3",
   "version": "3.8.10"
  }
 },
 "nbformat": 4,
 "nbformat_minor": 4
}