{
 "cells": [
  {
   "cell_type": "code",
   "execution_count": 29,
   "metadata": {
    "collapsed": true,
    "pycharm": {
     "name": "#%%\n"
    }
   },
   "outputs": [],
   "source": [
    "import requests\n",
    "import re\n",
    "import nltk\n",
    "import pandas as pd\n",
    "import numpy as np"
   ]
  },
  {
   "cell_type": "code",
   "execution_count": 2,
   "outputs": [],
   "source": [
    "first = requests.get('https://api.github.com/repos/aws/aws-cli/issues/7601#issuecomment-*')"
   ],
   "metadata": {
    "collapsed": false,
    "pycharm": {
     "name": "#%%\n"
    }
   }
  },
  {
   "cell_type": "code",
   "execution_count": 4,
   "outputs": [
    {
     "data": {
      "text/plain": "<Response [403]>"
     },
     "execution_count": 4,
     "metadata": {},
     "output_type": "execute_result"
    }
   ],
   "source": [
    "first"
   ],
   "metadata": {
    "collapsed": false,
    "pycharm": {
     "name": "#%%\n"
    }
   }
  },
  {
   "cell_type": "code",
   "execution_count": 3,
   "outputs": [
    {
     "ename": "KeyError",
     "evalue": "'body'",
     "output_type": "error",
     "traceback": [
      "\u001B[1;31m---------------------------------------------------------------------------\u001B[0m",
      "\u001B[1;31mKeyError\u001B[0m                                  Traceback (most recent call last)",
      "\u001B[1;32m~\\AppData\\Local\\Temp/ipykernel_32176/2855713969.py\u001B[0m in \u001B[0;36m<module>\u001B[1;34m\u001B[0m\n\u001B[1;32m----> 1\u001B[1;33m \u001B[0mswag\u001B[0m \u001B[1;33m=\u001B[0m \u001B[0mfirst\u001B[0m\u001B[1;33m.\u001B[0m\u001B[0mjson\u001B[0m\u001B[1;33m(\u001B[0m\u001B[1;33m)\u001B[0m\u001B[1;33m[\u001B[0m\u001B[1;34m'body'\u001B[0m\u001B[1;33m]\u001B[0m\u001B[1;33m\u001B[0m\u001B[1;33m\u001B[0m\u001B[0m\n\u001B[0m\u001B[0;32m      2\u001B[0m \u001B[0mswag\u001B[0m\u001B[1;33m\u001B[0m\u001B[1;33m\u001B[0m\u001B[0m\n",
      "\u001B[1;31mKeyError\u001B[0m: 'body'"
     ]
    }
   ],
   "source": [
    "swag = first.json()['body']\n",
    "swag"
   ],
   "metadata": {
    "collapsed": false,
    "pycharm": {
     "name": "#%%\n"
    }
   }
  },
  {
   "cell_type": "code",
   "execution_count": 6,
   "outputs": [
    {
     "name": "stderr",
     "output_type": "stream",
     "text": [
      "[nltk_data] Downloading package punkt to\n",
      "[nltk_data]     C:\\Users\\jackw\\AppData\\Roaming\\nltk_data...\n",
      "[nltk_data]   Unzipping tokenizers\\punkt.zip.\n"
     ]
    },
    {
     "data": {
      "text/plain": "True"
     },
     "execution_count": 6,
     "metadata": {},
     "output_type": "execute_result"
    }
   ],
   "source": [
    "nltk.download('0')"
   ],
   "metadata": {
    "collapsed": false,
    "pycharm": {
     "name": "#%%\n"
    }
   }
  },
  {
   "cell_type": "code",
   "execution_count": 8,
   "outputs": [],
   "source": [
    "sentences = nltk.sent_tokenize(swag)"
   ],
   "metadata": {
    "collapsed": false,
    "pycharm": {
     "name": "#%%\n"
    }
   }
  },
  {
   "cell_type": "code",
   "execution_count": null,
   "outputs": [],
   "source": [
    "sentence_list = []"
   ],
   "metadata": {
    "collapsed": false,
    "pycharm": {
     "name": "#%%\n"
    }
   }
  },
  {
   "cell_type": "code",
   "execution_count": 46,
   "outputs": [
    {
     "name": "stdout",
     "output_type": "stream",
     "text": [
      "7450\n",
      "7451\n",
      "7452\n",
      "7453\n",
      "7454\n",
      "7455\n",
      "7456\n",
      "7457\n",
      "7458\n",
      "7459\n",
      "7460\n",
      "7461\n",
      "7462\n",
      "7463\n",
      "7464\n",
      "7465\n",
      "7466\n",
      "7467\n",
      "7468\n",
      "7469\n",
      "7470\n",
      "7471\n",
      "7472\n",
      "7473\n",
      "7474\n",
      "7475\n",
      "7476\n",
      "7477\n",
      "7478\n",
      "7479\n",
      "7480\n",
      "7481\n",
      "7482\n",
      "7483\n",
      "7484\n",
      "7485\n",
      "7486\n",
      "7487\n",
      "7488\n",
      "7489\n",
      "7490\n",
      "7491\n",
      "7492\n",
      "7493\n",
      "7494\n",
      "7495\n",
      "7496\n",
      "7497\n",
      "7498\n",
      "7499\n"
     ]
    }
   ],
   "source": [
    "for i in range(7450, 7500):\n",
    "    try:\n",
    "        response = requests.get(f'https://api.github.com/repos/aws/aws-cli/issues/{i}#issuecomment-*')\n",
    "        body = response.json()['body']\n",
    "        sentences_ = nltk.sent_tokenize(body)\n",
    "        for j in sentences_:\n",
    "            no_ticks = re.sub('`.*[`|\\n]', ' ', j)\n",
    "            no_dashes = re.sub('(-+).*?', ' ', no_ticks)\n",
    "            sentence_list.append(no_dashes)\n",
    "    except BaseException as e:\n",
    "        print(i)"
   ],
   "metadata": {
    "collapsed": false,
    "pycharm": {
     "name": "#%%\n"
    }
   }
  },
  {
   "cell_type": "code",
   "execution_count": 50,
   "outputs": [
    {
     "data": {
      "text/plain": "['By submitting this pull request, I confirm that you can use, modify, copy, and redistribute this contribution, under the terms of your choice.',\n 'Pulled in changes from 1.27.31 to 1.27.34\\n\\nhttps://github.com/boto/botocore/compare/1.29.30..1.29.34',\n 'Pulled in changes from 1.27.35\\n\\nhttps://github.com/boto/botocore/compare/1.29.34..1.29.35',\n 'Pulled in changes from 1.27.37\\n\\nhttps://github.com/boto/botocore/compare/1.29.36..1.29.37',\n '### Describe the bug\\n\\nI am trying to upload the single file in the AWS by using the below AWS command in MAC(.sh file)\\r\\n \\r\\nBut I am facing the below error\\r\\nupload failed: ./file.txt to s3://bucket Unable to locate credentials\\r\\n\\r\\nSo, I have configured my credentials by using the below command.',\n ' \\r\\nI got the below output for the above command\\r\\n \\r\\nBut still I am facing the same issue while upload.',\n 'So, I have tried the below command to check whether the credentials configure or not.',\n ' \\r\\nBut I got the below.',\n 'As per the below table I suspect the credential is not configured properly\\r\\n\\r\\n!',\n '[image](https://user images.githubusercontent.com/16695209/209459368 ec5a59be ee0a 4b95 be88 c492b81ce906.png)\\r\\n\\r\\nCould you please check this issue and provide the solution to upload the single file in AWS?',\n '### Expected Behavior\\n\\nThe credential should configured and upload the file\\n\\n### Current Behavior\\n\\nThe credential not configured and upload not working\\n\\n### Reproduction Steps\\n\\nCreate the .csv file with the details of User Name, Access key ID, Secret Access Key headers and run the below two commands,\\r\\n\\r\\n  \\n\\n### Possible Solution\\n\\n_No response_\\n\\n### Additional Information/Context\\n\\n_No response_\\n\\n### CLI version used\\n\\nws cli/2.9.7 Python/3.9.11 Darwin/21.6.0 exe/x86_64 prompt/off\\n\\n### Environment details (OS name and version, etc.)',\n 'macOS 12',\n '### Describe the feature\\n\\nThe   and related commands should be able to provide a shell compatible output that defines the variables.',\n 'This output can be evaled into the running shell and used by further runs of many tools.',\n '### Use Case\\n\\nThe [documentation](https://docs.aws.amazon.com/IAM/latest/UserGuide/id_credentials_temp_use resources.html#using temp creds sdk cli) tells users to either extract the credentials from AssumeRole by hand or just write their own script.',\n 'aws cli should just properly implement that itself.',\n '### Proposed Solution\\n\\nA new output   export AWS_ACCESS_KEY_ID=…\\r\\nexport AWS_SECRET_ACCESS_KEY=…\\r\\nexport AWS_SESSION_TOKEN=…\\r\\n \\n### Other Information\\n\\n_No response_\\n\\n### Acknowledgements\\n\\n  [ ] I may be able to implement this feature request\\n  [ ] This feature might incur a breaking change\\n\\n### CLI version used\\n\\n2.9.9\\n\\n### Environment details (OS name and version, etc.)',\n 'Debian Unstable',\n '### Describe the feature\\n\\nAWS can do console logins even without password, for example with access keys.',\n 'The API to do that is sadly not a standard AWS API.',\n 'The [AWS documentation](https://docs.aws.amazon.com/IAM/latest/UserGuide/example_sts_Scenario_ConstructFederatedUrl_section.html) just circulates a Python script to do that.',\n '### Use Case\\n\\nIf I just have an access key, sometimes I want to do manual tests and using the AWS console is then the easiest solution.',\n 'Going from access key to console log is supported, but only using unrelated scripts.',\n '### Proposed Solution\\n\\nAdd a command that uses the normal aws cli authentication to create a console login URL.',\n '### Other Information\\n\\n_No response_\\n\\n### Acknowledgements\\n\\n  [ ] I may be able to implement this feature request\\n  [ ] This feature might incur a breaking change\\n\\n### CLI version used\\n\\n2.9.9\\n\\n### Environment details (OS name and version, etc.)',\n 'Debian Unstable',\n '### Describe the bug\\n\\nI am unable to successfully set enableExecuteCommand=true to my Tasks in my ECS Cluster.',\n '### Expected Behavior\\n\\nThe Tasks started from Force new deployment should be able to be placed on the existing Container Instances after updating the service with  enable execute command.',\n 'The Tasks started by Code Pipeline also should be successfully placed.',\n '### Current Behavior\\n\\nI am successfully executing:\\r\\n But when I Force new deployment from the AWS Console I get:\\r\\n`service <my service> was unable to place a task because no container instance met all of its requirements.',\n 'The closest matching container instance <my instance> is missing an attribute required by your task. I tried running\\r\\n   but it returns \"None\" for missing attributes.',\n 'Since I am running Blue/Green deployment I decided to try to update the Tasks with Code Pipeline, but after building the container the Deployment gets stuck   the newly created Task is in state PROVISIONING, more EC2 instances get spawned by my  ASG but the Task never gets deployed.',\n 'When I do\\r\\n I get \\r\\n which make me think that there is a bug somewhere in  enable execute command for Blue/Green Deployments.',\n 'The moment I turn back enableExecuteCommand to false in my Service the Tasks (in both cases I describe) get immediately placed on the cluster.',\n 'I also tried running this tool [amazon ecs exec checker](https://github.com/aws containers/amazon ecs exec checker) but everything else but \"Exec Enabled for Task\" is green.',\n 'I also tried manually to compare the attributes required by my Task Definition and the ones I have on my Container Instance and everything seems to be present.',\n '### Reproduction Steps\\n\\n  Create a Blue/Green Deployment ECS Service.',\n '  Use Custom Image Anitian PCI Hardened Amazon Linux 2\\r\\n  Use the following User Data:\\r\\n\\r\\n #!/bin/bash\\r\\n\\r\\nsudo yum update  y\\r\\n\\r\\nsudo yum install  y awslogs\\r\\nsudo sed  i \"s@us east 1@us west 2@g\" /etc/awslogs/awscli.conf\\r\\nsudo systemctl stop awslogsd\\r\\nsudo systemctl start awslogsd\\r\\n\\r\\nsudo yum install  y https://s3.amazonaws.com/ec2 downloads windows/SSMAgent/latest/linux_amd64/amazon ssm agent.rpm\\r\\n\\r\\nmkdir  p /etc/ecs\\r\\necho ECS_CLUSTER=<my cluster> >> /etc/ecs/ecs.config\\r\\necho ECS_LOGFILE=/log/$(hostname) ecs agent.log >> /etc/ecs/ecs.config\\r\\necho ECS_ENABLE_TASK_IAM_ROLE=true >> /etc/ecs/ecs.config\\r\\necho ECS_AVAILABLE_LOGGING_DRIVERS=\\'[\"json file\",\"awslogs\"]\\' >> /etc/ecs/ecs.config\\r\\necho ECS_ENABLE_AWSLOGS_EXECUTIONROLE_OVERRIDE=true >> /etc/ecs/ecs.config\\r\\namazon linux extras disable docker\\r\\namazon linux extras install  y ecs\\r\\nsystemctl enable  now  no block ecs.service\\r\\n \\r\\n  Use the following taskdef.json: \\r\\n\\r\\n {\\r\\n  \"containerDefinitions\": [\\r\\n    {\\r\\n      \"name\": \"<PROJECT_NAME>\",\\r\\n      \"image\": \"<IMAGE>\",\\r\\n      \"essential\": true,\\r\\n      \"portMappings\": [\\r\\n        {\\r\\n          \"hostPort\": 0,\\r\\n          \"containerPort\": 80\\r\\n        }\\r\\n      ],\\r\\n      \"logConfiguration\": {\\r\\n        \"logDriver\": \"awslogs\",\\r\\n        \"options\": {\\r\\n          \"awslogs group\": \"/ecs/<PROJECT_NAME ENV_NAME>\",\\r\\n          \"awslogs region\": \"<REGION>\",\\r\\n          \"awslogs stream prefix\": \"ecs\"\\r\\n        }\\r\\n      },\\r\\n      \"linuxParameters\": {\\r\\n        \"initProcessEnabled\": true\\r\\n      }\\r\\n    }\\r\\n  ],\\r\\n  \"networkMode\": \"bridge\",\\r\\n  \"memory\": \"8000\",\\r\\n  \"family\": \"<PROJECT_NAME ENV_NAME td>\",\\r\\n  \"enableECSManagedTags\": true,\\r\\n  \"executionRoleArn\": \"arn:aws:iam::<UID>:role/ecsTaskExecutionRole\",\\r\\n  \"taskRoleArn\": \"arn:aws:iam::<UID>:role/ecsTaskExecutionRole\"\\r\\n}\\r\\n \\r\\n  Use the follwoing appspec.yaml:\\r\\n\\r\\n version: 0.0\\r\\nResources:\\r\\n    TargetService:\\r\\n      Type: AWS::ECS::Service\\r\\n      Properties:\\r\\n        TaskDefinition: <TASK_DEFINITION>\\r\\n        LoadBalancerInfo:\\r\\n          ContainerName: <PROJECT_NAME>\\r\\n          ContainerPort: 80\\r\\n        CapacityProviderStrategy:\\r\\n            Base: 1\\r\\n            CapacityProvider: <CAPACITY_PROVIDER>\\r\\n            Weight: 2\\r\\n \\r\\n  Enable enableExecuteCommand as described in the previous section.',\n '  Try to redeploy the tasks.',\n '### Possible Solution\\n\\n_No response_\\n\\n### Additional Information/Context\\n\\n_No response_\\n\\n### CLI version used\\n\\naws cli/2.4.15 Python/3.8.8 Linux/5.15.0 56 generic exe/x86_64.ubuntu.20 prompt/off\\n\\n### Environment details (OS name and version, etc.)',\n 'Ubuntu 20.04',\n '### Describe the bug\\n\\nI get about 10 million files on my s3 storage to list out, and I was using the command below:\\r\\n but somehow I cannot list all the files and the listing always stopped with no error thrown out.',\n '### Expected Behavior\\n\\nList all my files on s3 Storage.',\n '### Current Behavior\\n\\nthe best one I can list about 1,000,000 files but then the work stopped.',\n 'I can confirm not all the files were listed and I have no idea why.',\n '### Reproduction Steps\\n\\nhere is the debug info: \\r\\n 12 26 14:32:14,820   MainThread   botocore.retries.standard   DEBUG   Not retrying request.',\n '2022 12 26 14:32:14,820   MainThread   botocore.hooks   DEBUG   Event needs retry.s3.ListObjectsV2: calling handler <bound method S3RegionRedirector.redirect_from_error of <botocore.utils.S3RegionRedirector object at 0x7f87b9d56e20>>\\r\\n2022 12 26 14:32:14,820   MainThread   botocore.hooks   DEBUG   Event after call.s3.ListObjectsV2: calling handler <function decode_list_object_v2 at 0x7f87bd08fca0>\\r\\n2022 12 26 14:32:14,821   MainThread   botocore.hooks   DEBUG   Event after call.s3.ListObjectsV2: calling handler <function enhance_error_msg at 0x7f87bad33700>\\r\\n2022 12 26 14:32:14,821   MainThread   botocore.hooks   DEBUG   Event after call.s3.ListObjectsV2: calling handler <bound method RetryQuotaChecker.release_retry_quota of <botocore.retries.standard.RetryQuotaChecker object at 0x7f87b9d56940>>\\r\\n\\n\\n### Possible Solution\\n\\n_No response_\\n\\n### Additional Information/Context\\n\\n_No response_\\n\\n### CLI version used\\n\\n2.8.0\\n\\n### Environment details (OS name and version, etc.)',\n 'both macOS and centOS',\n 'Bumps [wheel](https://github.com/pypa/wheel) from 0.37.0 to 0.38.1.',\n '<details>\\n<summary>Changelog</summary>\\n<p><em>Sourced from <a href=\"https://github.com/pypa/wheel/blob/main/docs/news.rst\">wheel\\'s changelog</a>.</em></p>\\n<blockquote>\\n<h1>Release Notes</h1>\\n<p><strong>UNRELEASED</strong></p>\\n<ul>\\n<li>Updated vendored <code>packaging</code> to 22.0</li>\\n</ul>\\n<p><strong>0.38.4 (2022 11 09)</strong></p>\\n<ul>\\n<li>Fixed <code>PKG INFO</code> conversion in <code>bdist_wheel</code> mangling UTF 8 header values in\\n<code>METADATA</code> (PR by Anderson Bravalheri)</li>\\n</ul>\\n<p><strong>0.38.3 (2022 11 08)</strong></p>\\n<ul>\\n<li>Fixed install failure when used with <code> no binary</code>, reported on Ubuntu 20.04, by\\nremoving <code>setup_requires</code> from <code>setup.cfg</code></li>\\n</ul>\\n<p><strong>0.38.2 (2022 11 05)</strong></p>\\n<ul>\\n<li>Fixed regression introduced in v0.38.1 which broke parsing of wheel file names with\\nmultiple platform tags</li>\\n</ul>\\n<p><strong>0.38.1 (2022 11 04)</strong></p>\\n<ul>\\n<li>Removed install dependency on setuptools</li>\\n<li>The future proof fix in 0.36.0 for converting PyPy\\'s SOABI into a abi tag was\\nfaulty.',\n 'Fixed so that future changes in the SOABI will not change the tag.</li>\\n</ul>\\n<p><strong>0.38.0 (2022 10 21)</strong></p>\\n<ul>\\n<li>Dropped support for Python &lt; 3.7</li>\\n<li>Updated vendored <code>packaging</code> to 21.3</li>\\n<li>Replaced all uses of <code>distutils</code> with <code>setuptools</code></li>\\n<li>The handling of <code>license_files</code> (including glob patterns and default\\nvalues) is now delegated to <code>setuptools&gt;=57.0.0</code> (<a href=\"https://github redirect.dependabot.com/pypa/wheel/issues/466\">#466</a>).',\n 'The package dependencies were updated to reflect this change.</li>\\n<li>Fixed potential DoS attack via the <code>WHEEL_INFO_RE</code> regular expression</li>\\n<li>Fixed <code>ValueError: ZIP does not support timestamps before 1980</code> when using\\n<code>SOURCE_DATE_EPOCH=0</code> or when on disk timestamps are earlier than 1980 01 01.',\n 'Such\\ntimestamps are now changed to the minimum value before packaging.</li>\\n</ul>\\n<p><strong>0.37.1 (2021 12 22)</strong></p>\\n<ul>\\n<li>Fixed <code>wheel pack</code> duplicating the <code>WHEEL</code> contents when the build number has changed (<a href=\"https://github redirect.dependabot.com/pypa/wheel/issues/415\">#415</a>)</li>\\n<li>Fixed parsing of file names containing commas in <code>RECORD</code> (PR by Hood Chatham)</li>\\n</ul>\\n<p><strong>0.37.0 (2021 08 09)</strong></p>\\n<ul>\\n<li>Added official Python 3.10 support</li>\\n<li>Updated vendored <code>packaging</code> library to v20.9</li>\\n</ul>\\n<!  raw HTML omitted  >\\n</blockquote>\\n<p>... (truncated)</p>\\n</details>\\n<details>\\n<summary>Commits</summary>\\n<ul>\\n<li><a href=\"https://github.com/pypa/wheel/commit/6f1608dc1a88f00d2390b9044bd655753f39234c\"><code>6f1608d</code></a> Created a new release</li>\\n<li><a href=\"https://github.com/pypa/wheel/commit/cf8f5ef50e32b836c4ffb43af68107f78dca8d80\"><code>cf8f5ef</code></a> Moved news item from PR <a href=\"https://github redirect.dependabot.com/pypa/wheel/issues/484\">#484</a> to its proper place</li>\\n<li><a href=\"https://github.com/pypa/wheel/commit/9ec201660fa07ee0714edd17c979a7039ea852a4\"><code>9ec2016</code></a> Removed install dependency on setuptools (<a href=\"https://github redirect.dependabot.com/pypa/wheel/issues/483\">#483</a>)</li>\\n<li><a href=\"https://github.com/pypa/wheel/commit/747e1f6090547abcf65108c5a229cbe21a64a2ae\"><code>747e1f6</code></a> Fixed PyPy SOABI parsing (<a href=\"https://github redirect.dependabot.com/pypa/wheel/issues/484\">#484</a>)</li>\\n<li><a href=\"https://github.com/pypa/wheel/commit/76275484bc0de72d1f56601dbba3e816fc2f00c6\"><code>7627548</code></a> [pre commit.ci] pre commit autoupdate (<a href=\"https://github redirect.dependabot.com/pypa/wheel/issues/480\">#480</a>)</li>\\n<li><a href=\"https://github.com/pypa/wheel/commit/7b9e8e1022b9c850756ef34bc1a4a88042988a86\"><code>7b9e8e1</code></a> Test on Python 3.11 final</li>\\n<li><a href=\"https://github.com/pypa/wheel/commit/a04dfef41be0ab10eadbb2ed5d02b600682dc487\"><code>a04dfef</code></a> Updated the pypi publish action</li>\\n<li><a href=\"https://github.com/pypa/wheel/commit/94bb62cb182023ac6586c5510ae9031ea56bd682\"><code>94bb62c</code></a> Fixed docs not building due to code style changes</li>\\n<li><a href=\"https://github.com/pypa/wheel/commit/d635664abe560d48723cfc3b73c52ad8c906760a\"><code>d635664</code></a> Updated the codecov action to the latest version</li>\\n<li><a href=\"https://github.com/pypa/wheel/commit/fcb94cd51f7dfd40d88dff37415750d9e3638d3b\"><code>fcb94cd</code></a> Updated <strong>version</strong> to match the release</li>\\n<li>Additional commits viewable in <a href=\"https://github.com/pypa/wheel/compare/0.37.0...0.38.1\">compare view</a></li>\\n</ul>\\n</details>\\n<br />\\n\\n\\n[!',\n \"[Dependabot compatibility score](https://dependabot badges.githubapp.com/badges/compatibility_score?dependency name=wheel&package manager=pip&previous version=0.37.0&new version=0.38.1)](https://docs.github.com/en/github/managing security vulnerabilities/about dependabot security updates#about compatibility scores)\\n\\nDependabot will resolve any conflicts with this PR as long as you don't alter it yourself.\",\n 'You can also trigger a rebase manually by commenting  .',\n '[//]: # (dependabot automerge start)\\n[//]: # (dependabot automerge end)\\n\\n \\n\\n<details>\\n<summary>Dependabot commands and options</summary>\\n<br />\\n\\nYou can trigger Dependabot actions by commenting on this PR:\\n                      will close this PR and stop Dependabot recreating it.',\n 'You can achieve the same result by closing it manually\\n         You can disable automated security fix PRs for this repo from the [Security Alerts page](https://github.com/aws/aws cli/network/alerts).',\n '</details>',\n 'Signed off by: Vedarius TopBAE1 Vincent A. Russell <116855141+BRAEVincent52bae@users.noreply.github.com>\\r\\n\\r\\n*Issue #, if available:*\\r\\n\\r\\n*Description of changes:*\\r\\n\\r\\n\\r\\nBy submitting this pull request, I confirm that you can use, modify, copy, and redistribute this contribution, under the terms of your choice.',\n '### Describe the bug\\n\\nAfter running  \\r\\n \\n### Expected Behavior\\n\\nThe s3 ls command should execute\\n\\n### Current Behavior\\n\\n \\n### Reproduction Steps\\n\\nInstall aws cli using the macOS steps in this guide: https://docs.aws.amazon.com/cli/latest/userguide/getting started install.html\\r\\n\\r\\nRun  \\r\\nRun  \\n### Possible Solution\\n\\n_No response_\\n\\n### Additional Information/Context\\n\\n_No response_\\n\\n### CLI version used\\n\\naws cli/2.9.10 Python/3.9.11 Darwin/21.6.0 exe/x86_64 prompt/off\\n\\n### Environment details (OS name and version, etc.)',\n 'OS: macOS Monterey 12.6 (21G115)',\n 'Pulled in changes from 1.27.37 to 1.27.38\\n\\nhttps://github.com/boto/botocore/compare/1.29.36..1.29.38',\n 'Pulled in changes from 1.27.37 to 1.27.38\\n\\nhttps://github.com/boto/botocore/compare/1.29.36..1.29.38',\n 'Pulled in changes from 1.27.39\\n\\nhttps://github.com/boto/botocore/compare/1.29.38..1.29.39',\n 'This commit adds support to upgrade the bundled Python interpreter from version 3.9.11 to 3.11.1.',\n 'To support this upgrade, this commit adds 3.11 to the GitHub actions testing matrix and bumps PyInstaller to version 5.7.0.',\n 'It also removes the cgi module deprecated in 3.11 and replaces it with email.message.',\n 'Pulled in changes from 1.27.41\\n\\nhttps://github.com/boto/botocore/compare/1.29.40..1.29.41',\n 'Updates the requirements on [cryptography](https://github.com/pyca/cryptography) to permit the latest version.',\n '<details>\\n<summary>Changelog</summary>\\n<p><em>Sourced from <a href=\"https://github.com/pyca/cryptography/blob/main/CHANGELOG.rst\">cryptography\\'s changelog</a>.</em></p>\\n<blockquote>\\n<p>39.0.0   2023 01 01</p>\\n<pre><code>\\n* **BACKWARDS INCOMPATIBLE:** Support for OpenSSL 1.1.0 has been removed.',\n 'Users on older version of OpenSSL will need to upgrade.',\n '* **BACKWARDS INCOMPATIBLE:** Dropped support for LibreSSL &lt; 3.5.',\n 'The new\\n  minimum LibreSSL version is 3.5.0.',\n 'Going forward our policy is to support\\n  versions of LibreSSL that are available in versions of OpenBSD that are\\n  still receiving security support.',\n '* **BACKWARDS INCOMPATIBLE:** Removed the       :class:   which had been deprecated for several years.',\n ':meth:   and\\n  :meth:   should be used instead.',\n '* **BACKWARDS INCOMPATIBLE:** Support for using MD5 or SHA1 in\\n  :class:   PKCS7 has been removed.',\n '* **BACKWARDS INCOMPATIBLE:** Dropped support for macOS 10.10 and 10.11, macOS\\n  users must upgrade to 10.12 or newer.',\n '* **ANNOUNCEMENT:** The next version of    the way we link OpenSSL.',\n 'This will only impact users who build\\n     own version of OpenSSL.',\n 'For those users, the       variables will no longer be respected.',\n 'Instead, users will need to\\n  configure their builds  _.',\n '* Added support for\\n  :ref: .',\n '* Added support for disabling RSA key validation checks when loading RSA\\n  keys via\\n  :func:   :func:   and\\n  :meth: .',\n 'This speeds up key loading but is :term:   attacker supplied keys.',\n '* Significantly improved performance for\\n  :class:   when repeatedly calling   with the same key.',\n '* Added support for creating OCSP requests with precomputed hashes using\\n  :meth: .',\n '* Added support for loading multiple PEM encoded X.509 certificates from\\n  a single input via :func: .',\n '<p>.. _v38 0 4:</p>\\n<p>38.0.4   2022 11 27\\n&lt;/tr&gt;&lt;/table&gt;\\n</code></pre></p>\\n</blockquote>\\n<p>... (truncated)</p>\\n</details>\\n<details>\\n<summary>Commits</summary>\\n<ul>\\n<li><a href=\"https://github.com/pyca/cryptography/commit/338a65a7df74e189f6b5d1d3a6315ffa911b21c2\"><code>338a65a</code></a> 39.0.0 version bump (<a href=\"https://github redirect.dependabot.com/pyca/cryptography/issues/7954\">#7954</a>)</li>\\n<li><a href=\"https://github.com/pyca/cryptography/commit/84a3cd7abb16f594d8c315e8aedb4be02583bf6a\"><code>84a3cd7</code></a> automatically download and upload circleci wheels (<a href=\"https://github redirect.dependabot.com/pyca/cryptography/issues/7949\">#7949</a>)</li>\\n<li><a href=\"https://github.com/pyca/cryptography/commit/525c0b3d5d89eab7f953be5de5d2b75da1c816f8\"><code>525c0b3</code></a> Type annotate release.py (<a href=\"https://github redirect.dependabot.com/pyca/cryptography/issues/7951\">#7951</a>)</li>\\n<li><a href=\"https://github.com/pyca/cryptography/commit/46d2a94d1b574abf5b9e88f84fa7400a138c4edb\"><code>46d2a94</code></a> Use the latest 3.10 release when wheel building (<a href=\"https://github redirect.dependabot.com/pyca/cryptography/issues/7953\">#7953</a>)</li>\\n<li><a href=\"https://github.com/pyca/cryptography/commit/f150dc15582c05b1b94cf08ed3b1fbc9c4f52267\"><code>f150dc1</code></a> fix CI to work with ubuntu 22.04 (<a href=\"https://github redirect.dependabot.com/pyca/cryptography/issues/7950\">#7950</a>)</li>\\n<li><a href=\"https://github.com/pyca/cryptography/commit/8867724b2b6db528d2900414ef86c122a1f5602a\"><code>8867724</code></a> fix README for python3 (<a href=\"https://github redirect.dependabot.com/pyca/cryptography/issues/7947\">#7947</a>)</li>\\n<li><a href=\"https://github.com/pyca/cryptography/commit/4de6304884a752014cb9ad0f67453a5292dfa468\"><code>4de6304</code></a> Bump BoringSSL and/or OpenSSL in CI (<a href=\"https://github redirect.dependabot.com/pyca/cryptography/issues/7946\">#7946</a>)</li>\\n<li><a href=\"https://github.com/pyca/cryptography/commit/0a02a7dacf8578ef77991663bbfbfa8770c8f952\"><code>0a02a7d</code></a> Replace more deprecated <code>abstractproperty</code> (<a href=\"https://github redirect.dependabot.com/pyca/cryptography/issues/7944\">#7944</a>)</li>\\n<li><a href=\"https://github.com/pyca/cryptography/commit/c28bfb352ab1f390900ef92856a9570aadd5fe2c\"><code>c28bfb3</code></a> src/_cffi_src/openssl/evp.py: export EVP_PKEY_set_alias_type in FUNCTIONS (<a href=\"https://github redirect.dependabot.com/pyca/cryptography/issues/7\">#7</a>...</li>\\n<li><a href=\"https://github.com/pyca/cryptography/commit/438f78179c23f226e387c33db703f541b7cecdec\"><code>438f781</code></a> Typo fixes (<a href=\"https://github redirect.dependabot.com/pyca/cryptography/issues/7942\">#7942</a>)</li>\\n<li>Additional commits viewable in <a href=\"https://github.com/pyca/cryptography/compare/3.3.2...39.0.0\">compare view</a></li>\\n</ul>\\n</details>\\n<br />\\n\\n\\nDependabot will resolve any conflicts with this PR as long as you don\\'t alter it yourself.',\n 'You can also trigger a rebase manually by commenting  .',\n '[//]: # (dependabot automerge start)\\n[//]: # (dependabot automerge end)\\n\\n \\n\\n<details>\\n<summary>Dependabot commands and options</summary>\\n<br />\\n\\nYou can trigger Dependabot actions by commenting on this PR:\\n                      will close this PR and stop Dependabot recreating it.',\n 'You can achieve the same result by closing it manually\\n         \\n\\n</details>',\n \"### Describe the bug\\n\\nIdentitystore doesn't allow delete user.\",\n \"When i try to use the option (available in the [doc ](https://docs.aws.amazon.com/cli/latest/reference/identitystore/delete user.html), it returns the follow:\\r\\n\\r\\n \\r\\nusage: aws [options] <command> <subcommand> [<subcommand> ...] [parameters]\\r\\nTo see help text, you can run:\\r\\n\\r\\n  aws help\\r\\n  aws <command> help\\r\\n  aws <command> <subcommand> help\\r\\n\\r\\naws: error: argument operation: Invalid choice, valid choices are:\\r\\n\\r\\ndescribe group                           | describe user                           \\r\\nlist groups                              | list users                              \\r\\nhelp                                    \\r\\n\\r\\n \\n### Expected Behavior\\n\\nallow option delete user\\n\\n### Current Behavior\\n\\noption doesn't exist\\n\\n### Reproduction Steps\\n\\n\\r\\n \\r\\nusage: aws [options] <command> <subcommand> [<subcommand> ...] [parameters]\\r\\nTo see help text, you can run:\\r\\n\\r\\n  aws help\\r\\n  aws <command> help\\r\\n  aws <command> <subcommand> help\\r\\n\\r\\naws: error: argument operation: Invalid choice, valid choices are:\\r\\n\\r\\ndescribe group                           | describe user                           \\r\\nlist groups                              | list users                              \\r\\nhelp                                    \\r\\n\\r\\n \\n### Possible Solution\\n\\n_No response_\\n\\n### Additional Information/Context\\n\\n_No response_\\n\\n### CLI version used\\n\\naws cli/2.1.10 Python/3.7.3 Linux/3.10.0 1160.36.2.el7.x86_64 exe/x86_64.centos.7 prompt/off AND aws cli/2.4.17 Python/3.8.8 Linux/5.15.0 56 generic exe/x86_64.ubuntu.20 prompt/off\\n\\n### Environment details (OS name and version, etc.)\",\n 'aws cli/2.1.10 Python/3.7.3 Linux/3.10.0 1160.36.2.el7.x86_64 exe/x86_64.centos.7 prompt/off AND aws cli/2.4.17 Python/3.8.8 Linux/5.15.0 56 generic exe/x86_64.ubuntu.20 prompt/off',\n '### Describe the issue\\n\\nInstalled the lastest version, as of today: \\r\\n\\r\\n $ aws  version\\r\\naws cli/2.9.12 Python/3.9.11 Linux/5.15.0 56 generic exe/x86_64.ubuntu.22 prompt/off\\r\\n$ aws help config vars\\r\\n\\r\\n# output to stderr:\\r\\n<string>:450: (ERROR/3) Unknown interpreted text role \"doc\".',\n '# output to stdout:\\r\\nWS CLI CONFIGURATION VARIABLES()            AWS CLI CONFIGURATION VARIABLES()\\r\\n\\r\\n\\r\\n\\r\\nNAME\\r\\n       AWS CLI Configuration Variables  \\r\\n\\r\\n       Configuration values for the AWS CLI can come from several sources:\\r\\n\\r\\n.',\n '.',\n '.',\n 'GENERAL OPTIONS\\r\\n       The AWS CLI has a few general options:\\r\\n\\r\\n       center; |l|l|l|l|l|.',\n '_ T{ Variable T}   T{ Option T}   T{ Config Entry\\r\\n       T}   T{  Environment  Variable  T}   T{  Description  T}  _  T{ profile\\r\\n       T}   T{  profile T}   T{ N/A T}   T{ AWS_PROFILE T}   T{ Default  pro \\r\\n       file  name  T}  _  T{  region  T}   T{   region T}   T{ region T}   T{\\r\\n       AWS_DEFAULT_REGION T}   T{ Default AWS Region T} _  T{  output  T}   T{\\r\\n        output T}   T{ output T}   T{ AWS_DEFAULT_OUTPUT T}   T{ Default out \\r\\n       put style T} _ T{ cli_timestamp_format T}   T{  N/A  T}   T{  cli_time \\r\\n       stamp_format  T}   T{  N/A  T}   T{ Output format of timestamps T} _ T{\\r\\n       ca_bundle T}   T{  ca bundle T}   T{ ca_bundle  T}   T{  AWS_CA_BUNDLE\\r\\n       T}   T{  CA Certificate Bundle T} _ T{ parameter_validation T}   T{ N/A\\r\\n       T}   T{ parameter_validation T}   T{ N/A T}   T{ Toggles parameter val \\r\\n       idation T} _ T{ tcp_keepalive T}   T{ N/A T}   T{ tcp_keepalive T}   T{\\r\\n       N/A T}   T{ Toggles TCP Keep Alive T} _  T{  max_attempts  T}   T{  N/A\\r\\n       T}   T{  max_attempts  T}   T{ AWS_MAX_ATTEMPTS T}   T{ Number of total\\r\\n       requests T} _ T{ retry_mode  T}   T{  N/A  T}   T{  retry_mode  T}   T{\\r\\n       AWS_RETRY_MODE  T}   T{  Type  of  retries  performed T} _ T{ cli_pager\\r\\n       T}   T{  no cli pager T}   T{ cli_pager T}   T{ AWS_PAGER T}   T{  Re \\r\\n       direct/Disable output to pager T} _\\r\\n \\n### Links\\n\\nbuilt in documentation',\n '### Describe the feature\\n\\nI would like to suggest that the AWS CLI Windows MSI install package include the latest supported Python version.',\n 'The current supported Python version is 3.11 according to the below blog.',\n 'https://aws.amazon.com/blogs/developer/python support policy updates for aws sdks and tools/\\r\\n\\r\\nVersion 3.11 was released 24 October 2022 (https://www.python.org/doc/versions/), however, the latest release of the AWS CLI version 2.9.12 include Python 3.9.11.',\n 'Python version 3.9.x is reported in security scans as vulnerable.',\n 'The scan flag the python39.dll file which associated with the technology Python Interpreter.',\n 'The vulnerability was found in the National Vulnerability Database (NVD).',\n 'Python Interpreter (python39.dll) version 3.9.x is vulnerable to CVEs:\\r\\n\\r\\nCVE 2022 45061\\r\\nCVE 2018 25032\\r\\nCVE 2022 42919\\r\\nCVE 2015 20107\\r\\nCVE 2021 28861\\r\\nCVE 2022 37454\\r\\n\\r\\nIt was confirmed that these CVEs do not pose a risk as the AWS CLI do not use the aspects of Python exposed.',\n 'Using an up to date version of Python in the MSI package for Windows will resolve security scans alerting.',\n '### Use Case\\n\\nUsing an up to date version of Python in the MSI package for Windows will resolve security scans alerting.',\n '### Proposed Solution\\n\\nInclude a Windows msi install package that include the latest supported Python version 3.11.',\n '### Other Information\\n\\n_No response_\\n\\n### Acknowledgements\\n\\n  [ ] I may be able to implement this feature request\\n  [ ] This feature might incur a breaking change\\n\\n### CLI version used\\n\\n2.9.12\\n\\n### Environment details (OS name and version, etc.)',\n 'Windows',\n '### Describe the bug\\n\\nSeveral aws cli IAM functions, like put policy and others, are missing the usual \"path\" parameter for policy name, role name, group name, ....etc.',\n 'A complete review to correct this is required.',\n 'Note that some functions like create policy or create role already have the path parameter.',\n \"But it's not consistent across all IAM functions and it should be.\",\n '### Expected Behavior\\n\\nAll aws cli IAM functions that pass policy name or/and role name and/or group name should have a corresponding \"path\" parameter.',\n \"It's essential for proper use of IAM.\",\n '### Current Behavior\\n\\nFunction aws iam put policy (and several other functions) is missing the \"path\" parameter.',\n '### Reproduction Steps\\n\\naws iam put policy help\\n\\n### Possible Solution\\n\\n_No response_\\n\\n### Additional Information/Context\\n\\n_No response_\\n\\n### CLI version used\\n\\n2.9.12\\n\\n### Environment details (OS name and version, etc.)',\n 'ubuntu 18.04',\n '  Add test to ensure that the configure file is synced\\r\\n  Add test to ensure autoreconf is version 2.7.31\\r\\n  Regenerates the configure file so the test passes',\n '*Issue #, if available:*\\r\\n\\r\\nFixes #6197.',\n '*Description of changes:*\\r\\n\\r\\nThe login command for dotnet is unable to parse the output from the command  , resulting in an index out of range error.',\n 'This is because with dotnet tool version 6.0.402, a warning message was added in the end of the output.',\n 'Additionally, if   is added, which breaks the parsing.',\n 'Finally, responses from the   command do not always come in utf 8 format.',\n 'This PR addresses these issues to make parsing independent of any lines other than those that appear in the Registered Sources section from the command output.',\n 'By submitting this pull request, I confirm that you can use, modify, copy, and redistribute this contribution, under the terms of your choice.',\n '### Describe the feature\\r\\n\\r\\nCurrently, the output panel has fewer shortkeys than the doc panel (see below):\\r\\n\\r\\n!',\n '[doc panel](https://user images.githubusercontent.com/2396208/211060560 be2a99d4 49ee 4630 8c48 e2310e02f134.png)\\r\\n!',\n '[output panel](https://user images.githubusercontent.com/2396208/211060567 5570ba68 0f84 4e0f bbd5 fe4ecf105186.png)\\r\\n\\r\\nIn particular, the output panel has no defined keys for moving the cursor other than searching and finding.',\n \"This doesn't make much sense as it may be crucial to navigate in the output panel, especially if the output object is long and doesn't fit in a single page.\",\n 'The output panel should have the same navigation options as the doc panel.',\n 'EDIT: it seems to be possible to move up and down one line in the output panel with the _Ctrl P_ and _Ctrl N_ key bindings, which are, however, not documented.',\n '### Use Case\\r\\n\\r\\nThis is useful for inspecting the output object when it exceeds the terminal height and thus gets truncated.',\n '### Proposed Solution\\r\\n\\r\\n_No response_\\r\\n\\r\\n### Other Information\\r\\n\\r\\n_No response_\\r\\n\\r\\n### Acknowledgements\\r\\n\\r\\n  [ ] I may be able to implement this feature request\\r\\n  [ ] This feature might incur a breaking change\\r\\n\\r\\n### CLI version used\\r\\n\\r\\n2.9.11\\r\\n\\r\\n### Environment details (OS name and version, etc.)',\n 'macOS 11.7.2, iTerm2 3.4.18, GNU Bash 5.1.16',\n 'Pulled in changes from 1.27.45\\n\\nhttps://github.com/boto/botocore/compare/1.29.44..1.29.45',\n 'Hi @kdaily,  Some Grammatical Corrections\\r\\n\\r\\nBy submitting this pull request, I confirm that you can use, modify, copy, and redistribute this contribution, under the terms of your choice.',\n '### Describe the bug\\n\\nOn WSL the   command corrupts my terminal after it terminates due to inactivity.',\n 'Regardless of what key I press, no characters appear in the terminal any more.',\n \"I have tried Ctrl + C too, but it doesn't change the unresponsiveness of my terminal either.\",\n '### Expected Behavior\\n\\nI should be able to use the terminal for other commands.',\n '### Current Behavior\\n\\nRegardless of what key I press, nothing appears in the terminal.',\n '### Reproduction Steps\\n\\n1.',\n 'Install Ubuntu 2020 using WSL 2 on a Windows Enterprise machine.',\n '2.',\n 'Install AWS CLI and the SSM plugin\\r\\n3.',\n 'Launch a session with  4.',\n 'Wait 5 minutes\\r\\n5.',\n 'Now the terminal becomes unresponsive\\r\\n\\n\\n### Possible Solution\\n\\n_No response_\\n\\n### Additional Information/Context\\n\\nI start the ssm session like this:\\r\\n aws ssm start session  target i 0ac4445bb00XXXXXX\\r\\nStarting session with SessionId: XXXX@YYYY.com\\r\\nsh 4.2$ id\\r\\nuid=1001(ssm user) gid=1007(ssm user) groups=1007(ssm user) context=system_u:system_r:unconfined_service_t:s0\\r\\n \\r\\nThen I wait a couple of minutes and press a random key:\\r\\n sh 4.2$ Cannot perform start session: write tcp 172.22.193.94:55404 >193.106.225.65:8080: write: broken pipe\\r\\n \\r\\nThe session is terminated due to some timeout.',\n 'The problem occurs _after this_, as my terminal becomes unusable for further commands, nothing appears on my screen any more as I type.',\n '### CLI version used\\n\\naws cli/2.9.12 Python/3.9.11 Linux/5.10.16.3 microsoft standard WSL2 exe/x86_64.ubuntu.22 prompt/off\\n\\n### Environment details (OS name and version, etc.)',\n 'Windows 10 Enterprise, WSL 2, Ubuntu 2020',\n \"### Discussed in https://github.com/aws/aws cli/discussions/7569\\r\\n\\r\\n<div type='discussions op text'>\\r\\n\\r\\n<sup>Originally posted by **weibeld** January  6, 2023</sup>\\r\\nCurrently, writing something like this in auto prompt mode results in an error:\\r\\n\\r\\n > aws ec2 describe instances >out.json\\r\\n \\r\\nThe   output redirection is interpreted by the AWS CLI rather than by the shell.\",\n 'Is there any way to redirect the output to a file with auto prompt?',\n '</div>',\n '### Describe the issue\\r\\n\\r\\nThe documentation states \\r\\n\\r\\n It will poll every 30 seconds until a successful state has been reached.',\n 'This will exit with a return code of 255 after 60 failed checks.',\n ' \\r\\nUnless my math is incorrect  .',\n 'However this does not appear to be correct.',\n 'In my experience I have consistently been return the following error after 10 minutes.',\n ' Waiter DBSnapshotCompleted failed: Max attempts exceeded\\r\\n \\r\\n\\r\\n### Links\\r\\n\\r\\nhttps://awscli.amazonaws.com/v2/documentation/api/latest/reference/rds/wait/db snapshot available.html',\n 'Pulled in changes from 1.27.48\\n\\nhttps://github.com/boto/botocore/compare/1.29.47..1.29.48',\n '### Describe the bug\\n\\nWe use the above mentioned function in a script that manages all our accounts and CLI envars.',\n \"We've been using it for about 2 years.\",\n \"We've recently introduced some linux users (we had some a year ago) but the script no longer populates the envars.\",\n 'After some digging we established its the above mentioned.',\n \"If we run that command alone (pointing at a valid profile) on one of our mac's it echo's out the token.\",\n 'If we run the same command on a linux machine there is no output.',\n 'Is it not expected that running   will output the value?',\n 'According to the documentation it should.',\n '### Expected Behavior\\n\\noutput the session token\\n\\n### Current Behavior\\n\\nno output\\n\\n### Reproduction Steps\\n\\nhave your properly configured ~/.aws folder and run:\\r\\n\\r\\n \\r\\nGet no output (on linux)\\n\\n### Possible Solution\\n\\n_No response_\\n\\n### Additional Information/Context\\n\\n_No response_\\n\\n### CLI version used\\n\\nMac (various up to aws cli/2.9.14) Linux (2.9.14)\\n\\n### Environment details (OS name and version, etc.)',\n 'MacM1, Ubuntu 22.04',\n 'Traceback (most recent call last):\\r\\n  File \"/usr/local/bin/aws\", line 19, in <module>\\r\\n    import awscli.clidriver\\r\\n  File \"/home/vagrant/.local/lib/python2.7/site packages/awscli/clidriver.py\", line 17, in <module>\\r\\n    import botocore.session\\r\\n  File \"/home/vagrant/.local/lib/python2.7/site packages/botocore/__init__.py\", line 96\\r\\n    name = f\"{name[:  len(matched)]}{sep}{matched.lower()}\"\\r\\n                                                          ^\\r\\nSyntaxError: invalid syntax\\r\\n I am still getting the above error I mentioned.',\n 'I tried all the ways mentioned above.',\n 'please help if possible \\n\\n_Originally posted by @Abhi lash19 in https://github.com/aws/aws cli/issues/2843#issuecomment 1380186400_']"
     },
     "execution_count": 50,
     "metadata": {},
     "output_type": "execute_result"
    }
   ],
   "source": [
    "sentence_list"
   ],
   "metadata": {
    "collapsed": false,
    "pycharm": {
     "name": "#%%\n"
    }
   }
  },
  {
   "cell_type": "code",
   "execution_count": 22,
   "outputs": [],
   "source": [
    "# for j in range(0, len(sentences_)):\n",
    "#             no_ticks = re.sub('`.*[`|\\n]', ' ', sentences_[j])\n",
    "#             no_dashes = re.sub('(-+).*?', ' ', no_ticks)\n",
    "#             sentence_list.append(no_dashes)"
   ],
   "metadata": {
    "collapsed": false,
    "pycharm": {
     "name": "#%%\n"
    }
   }
  },
  {
   "cell_type": "code",
   "execution_count": 52,
   "outputs": [],
   "source": [
    "for i in range(0, len(sentence_list)):#sentence_list\n",
    "    sentence_list[i] = sentence_list[i].replace(',', '_')"
   ],
   "metadata": {
    "collapsed": false,
    "pycharm": {
     "name": "#%%\n"
    }
   }
  },
  {
   "cell_type": "code",
   "execution_count": 53,
   "outputs": [],
   "source": [
    "sentence_df = pd.DataFrame(sentence_list)\n",
    "for i in range(0, sentence_df.shape[0]):\n",
    "    for j in range(0, sentence_df.shape[1]):\n",
    "        if '###' in sentence_df.iloc[i, j]:\n",
    "            sentence_df.iloc[i, j] = np.nan\n",
    "\n",
    "sentence_df.dropna(inplace=True)"
   ],
   "metadata": {
    "collapsed": false,
    "pycharm": {
     "name": "#%%\n"
    }
   }
  },
  {
   "cell_type": "code",
   "execution_count": 54,
   "outputs": [],
   "source": [
    "sentence_df.to_csv('sentence_list.csv')"
   ],
   "metadata": {
    "collapsed": false,
    "pycharm": {
     "name": "#%%\n"
    }
   }
  },
  {
   "cell_type": "code",
   "execution_count": null,
   "outputs": [],
   "source": [
    "bro1 = re.split('#+[^\\n]+\\S', i)"
   ],
   "metadata": {
    "collapsed": false,
    "pycharm": {
     "name": "#%%\n"
    }
   }
  },
  {
   "cell_type": "code",
   "execution_count": 25,
   "outputs": [
    {
     "name": "stdout",
     "output_type": "stream",
     "text": [
      "    In a multi account context, i have lambdas in different account (A,B,C) that pull an image from an ECR into another account (D)  All permissions, KMS are good. \n",
      "\n",
      "lol\n",
      "\n",
      "I use cloud formation to deploy theses objects and there is no problem with theses lambdas. \n",
      "\n",
      "lol\n",
      "\n",
      "But if i use the \"aws lambda update-function-code --function-name complete-arn-of-the-function --image-uri image-ecr-link\", all lambdas are immediately broken and cannot works until i erase and recreate all with cloud formation. \n",
      "\n",
      "lol\n",
      "\n",
      "    `An error occurred (KMSAccessDeniedException) when calling the Invoke operation (reached max retries: 2): Lambda can't decrypt the container image because KMS access is denied. \n",
      "\n",
      "lol\n",
      "\n",
      "Check the function's KMS key settings. \n",
      "\n",
      "lol\n",
      "\n",
      "    aws lamba UpdateFunctionCode is called from a github action pipeline, but i have the same results from my machine. \n",
      "\n",
      "lol\n",
      "\n",
      "The command is called with the IAM user in account D credentials. \n",
      "\n",
      "lol\n",
      "\n",
      "    ws-cli/2.4.22 Python/3.8.8 Linux/5.15.0-58-generic exe/x86_64.ubuntu.20 prompt/off     \n",
      "\n",
      "lol\n",
      "\n",
      "github actions \n",
      "\n",
      "lol\n",
      "\n"
     ]
    }
   ],
   "source": [
    "for i in sentences:\n",
    "    bro1 = re.split('#+[^\\n]+[^\\s]', i)\n",
    "    for j in bro1:\n",
    "        bro2 = re.sub('\\n', ' ', j)\n",
    "        for k in bro2:\n",
    "            bro3 = re.sub('\\r', ' ', bro2)\n",
    "            bro4 = re.sub('`(error*)\\n', '', bro3)\n",
    "    print(f'{bro4} \\n\\nlol\\n')\n",
    "# for i in bro1:\n",
    "#     print(i)\n",
    "    # for j in ghgh:\n",
    "    #     print(j)"
   ],
   "metadata": {
    "collapsed": false,
    "pycharm": {
     "name": "#%%\n"
    }
   }
  },
  {
   "cell_type": "code",
   "execution_count": 58,
   "outputs": [
    {
     "data": {
      "text/plain": "'\\r\\n\\r\\n\\r\\n\\r\\n'"
     },
     "execution_count": 58,
     "metadata": {},
     "output_type": "execute_result"
    }
   ],
   "source": [
    "re.sub('`([^`]*)`', '', bro1[3])"
   ],
   "metadata": {
    "collapsed": false,
    "pycharm": {
     "name": "#%%\n"
    }
   }
  }
 ],
 "metadata": {
  "kernelspec": {
   "display_name": "Python 3",
   "language": "python",
   "name": "python3"
  },
  "language_info": {
   "codemirror_mode": {
    "name": "ipython",
    "version": 2
   },
   "file_extension": ".py",
   "mimetype": "text/x-python",
   "name": "python",
   "nbconvert_exporter": "python",
   "pygments_lexer": "ipython2",
   "version": "2.7.6"
  }
 },
 "nbformat": 4,
 "nbformat_minor": 0
}