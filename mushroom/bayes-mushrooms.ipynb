{
 "cells": [
  {
   "cell_type": "code",
   "execution_count": 17,
   "metadata": {},
   "outputs": [],
   "source": [
    "import numpy as np\n",
    "import pandas as pd\n",
    "from sklearn.datasets import load_iris\n",
    "from sklearn.model_selection import train_test_split\n",
    "from sklearn.naive_bayes import GaussianNB\n",
    "\n",
    "from sklearn.feature_extraction.text import CountVectorizer"
   ]
  },
  {
   "cell_type": "markdown",
   "metadata": {},
   "source": [
    "## Cleaning\n"
   ]
  },
  {
   "cell_type": "code",
   "execution_count": 13,
   "metadata": {},
   "outputs": [
    {
     "name": "stdout",
     "output_type": "stream",
     "text": [
      "(8124, 23)\n",
      "  edible cap-shape cap-surface cap-color bruises odor gill-attachment  \\\n",
      "0      p         x           s         n       t    p               f   \n",
      "1      e         x           s         y       t    a               f   \n",
      "2      e         b           s         w       t    l               f   \n",
      "3      p         x           y         w       t    p               f   \n",
      "4      e         x           s         g       f    n               f   \n",
      "\n",
      "  gill-spacing gill-size gill-color  ... stalk-surface-below-ring  \\\n",
      "0            c         n          k  ...                        s   \n",
      "1            c         b          k  ...                        s   \n",
      "2            c         b          n  ...                        s   \n",
      "3            c         n          n  ...                        s   \n",
      "4            w         b          k  ...                        s   \n",
      "\n",
      "  stalk-color-above-ring stalk-color-below-ring veil-type veil-color  \\\n",
      "0                      w                      w         p          w   \n",
      "1                      w                      w         p          w   \n",
      "2                      w                      w         p          w   \n",
      "3                      w                      w         p          w   \n",
      "4                      w                      w         p          w   \n",
      "\n",
      "  ring-number ring-type spore-print-color population habitat  \n",
      "0           o         p                 k          s       u  \n",
      "1           o         p                 n          n       g  \n",
      "2           o         p                 n          n       m  \n",
      "3           o         p                 k          s       u  \n",
      "4           o         e                 n          a       g  \n",
      "\n",
      "[5 rows x 23 columns]\n",
      "48.20285573609059 % of the dataset is poisonous\n",
      "51.7971442639094 % of the dataset is edible\n",
      "edible                         0\n",
      "cap-shape                      0\n",
      "cap-surface                    0\n",
      "cap-color                      0\n",
      "bruises                        0\n",
      "odor                           0\n",
      "gill-attachment                0\n",
      "gill-spacing                   0\n",
      "gill-size                      0\n",
      "gill-color                     0\n",
      "stalk-shape                    0\n",
      "stalk-root                  2480\n",
      "stalk-surface-above-ring       0\n",
      "stalk-surface-below-ring       0\n",
      "stalk-color-above-ring         0\n",
      "stalk-color-below-ring         0\n",
      "veil-type                      0\n",
      "veil-color                     0\n",
      "ring-number                    0\n",
      "ring-type                      0\n",
      "spore-print-color              0\n",
      "population                     0\n",
      "habitat                        0\n",
      "dtype: int64\n",
      "b    3776\n",
      "e    1120\n",
      "c     556\n",
      "r     192\n",
      "Name: stalk-root, dtype: int64\n",
      "(8124, 22)\n"
     ]
    }
   ],
   "source": [
    "\n",
    "labels = [\"edible\", \"cap-shape\", \"cap-surface\", \"cap-color\", \"bruises\", \"odor\", \"gill-attachment\",\n",
    "          \"gill-spacing\", \"gill-size\", \"gill-color\", \"stalk-shape\", \"stalk-root\", \"stalk-surface-above-ring\",\n",
    "          \"stalk-surface-below-ring\", \"stalk-color-above-ring\", \"stalk-color-below-ring\", \"veil-type\", \"veil-color\",\n",
    "          \"ring-number\", \"ring-type\", \"spore-print-color\", \"population\", \"habitat\"]\n",
    "df = pd.read_csv(\"agaricus-lepiota.data\", names=labels)\n",
    "df.replace('?', np.NaN, inplace=True)\n",
    "\n",
    "# EDA\n",
    "# (8124, 23)\n",
    "print(df.shape)\n",
    "print(df.head(5))\n",
    "# Response variable is \"edible\": either 'e' for \"edible\", or 'p' for \"poisonous\"\n",
    "count = df[\"edible\"].value_counts()\n",
    "total = count[\"p\"] + count[\"e\"]\n",
    "print((count[\"p\"] / total) * 100, \"% of the dataset is poisonous\")\n",
    "print((count[\"e\"] / total) * 100, \"% of the dataset is edible\")\n",
    "# 48% are poisonous\n",
    "# 52% are edible\n",
    "# Good split\n",
    "na_vec = df.isnull().sum()\n",
    "print(na_vec)\n",
    "# All missing values (2480) are found in \"stalk-root\" column\n",
    "# Exploring \"stalk-root\" column\n",
    "count = df[\"stalk-root\"].value_counts()\n",
    "print(count)\n",
    "# Drop?\n",
    "df = df.drop([\"stalk-root\"], axis=1)\n",
    "print(df.shape)\n",
    "shrooms = df"
   ]
  },
  {
   "cell_type": "code",
   "execution_count": 14,
   "metadata": {},
   "outputs": [
    {
     "name": "stdout",
     "output_type": "stream",
     "text": [
      "[[2 4 4 0 3 3 0 3 1 0 2 2 2 0 2 1 4 0 4 4 1 3 1 4 1 2 1 0 0 2 4 1 0 0 3 1\n",
      "  0 4 3 2 3 4 4 3 0 0 0 4 1 4 1 2 2 4 3 4 4 0 3 2 4 3 4 2 3 0 2 1 3 2 0 1\n",
      "  4 1 3 3 1 2 0 2 4 0 2 4 3 4 3 0 4 2 2 4 1 2 1 1 1 0 4 4]]\n",
      "[4]\n"
     ]
    }
   ],
   "source": [
    "#just an extra box for testing stuff\n",
    "rng = np.random.RandomState(1)\n",
    "# This creates an matrix of 6X100 rangeing from 0 to 5\n",
    "# (5 being the \"low\" parameter, and if high parameter isn't specified default is from 0 to low)\n",
    "X = rng.randint(5, size=(6, 100))\n",
    "\n",
    "y = np.array([1, 2, 3, 4, 5, 6])\n",
    "from sklearn.naive_bayes import MultinomialNB\n",
    "clf = MultinomialNB()\n",
    "\n",
    "clf.fit(X, y)\n",
    "print(X[2:3])\n",
    "print(clf.predict(X[3:4]))"
   ]
  },
  {
   "cell_type": "markdown",
   "metadata": {},
   "source": [
    "#### Implementing a naive bayes algorithm"
   ]
  },
  {
   "cell_type": "code",
   "execution_count": 44,
   "metadata": {},
   "outputs": [],
   "source": [
    "# Split data into training and testing\n",
    "\n",
    "X_train, X_test, y_train, y_test = train_test_split(shrooms, shrooms[\"edible\"], random_state=0)\n"
   ]
  },
  {
   "cell_type": "code",
   "execution_count": 45,
   "metadata": {},
   "outputs": [],
   "source": [
    "#Here I'm making the training numeric, because turns out the nb function doesn't like strings\n",
    "X_trainDum = pd.get_dummies(X_train)"
   ]
  },
  {
   "cell_type": "code",
   "execution_count": 66,
   "metadata": {},
   "outputs": [
    {
     "name": "stdout",
     "output_type": "stream",
     "text": [
      "Index(['edible_e', 'edible_p', 'cap-shape_b', 'cap-shape_c', 'cap-shape_f',\n",
      "       'cap-shape_k', 'cap-shape_s', 'cap-shape_x', 'cap-surface_f',\n",
      "       'cap-surface_g',\n",
      "       ...\n",
      "       'population_s', 'population_v', 'population_y', 'habitat_d',\n",
      "       'habitat_g', 'habitat_l', 'habitat_m', 'habitat_p', 'habitat_u',\n",
      "       'habitat_w'],\n",
      "      dtype='object', length=114)\n",
      "      edible_e  edible_p  cap-shape_b  cap-shape_c  cap-shape_f  cap-shape_k  \\\n",
      "380      False     False        False        False        False        False   \n",
      "3641     False     False        False        False        False        False   \n",
      "273      False     False        False        False        False        False   \n",
      "1029     False     False        False        False        False        False   \n",
      "684      False     False        False        False        False        False   \n",
      "...        ...       ...          ...          ...          ...          ...   \n",
      "1859     False     False        False        False        False        False   \n",
      "6181     False     False        False        False        False        False   \n",
      "6228     False     False        False        False        False        False   \n",
      "554      False     False        False        False        False        False   \n",
      "7025     False     False        False        False        False        False   \n",
      "\n",
      "      cap-shape_s  cap-shape_x  cap-surface_f  cap-surface_s  ...  \\\n",
      "380         False        False          False          False  ...   \n",
      "3641        False        False          False          False  ...   \n",
      "273         False        False          False          False  ...   \n",
      "1029        False        False          False          False  ...   \n",
      "684         False        False          False          False  ...   \n",
      "...           ...          ...            ...            ...  ...   \n",
      "1859        False        False          False          False  ...   \n",
      "6181        False        False          False          False  ...   \n",
      "6228        False        False          False          False  ...   \n",
      "554         False        False          False          False  ...   \n",
      "7025        False        False          False          False  ...   \n",
      "\n",
      "      population_s  population_v  population_y  habitat_d  habitat_g  \\\n",
      "380          False         False         False      False      False   \n",
      "3641         False         False         False      False      False   \n",
      "273          False         False         False      False      False   \n",
      "1029         False         False         False      False      False   \n",
      "684          False         False         False      False      False   \n",
      "...            ...           ...           ...        ...        ...   \n",
      "1859         False         False         False      False      False   \n",
      "6181         False         False         False      False      False   \n",
      "6228         False         False         False      False      False   \n",
      "554          False         False         False      False      False   \n",
      "7025         False         False         False      False      False   \n",
      "\n",
      "      habitat_l  habitat_m  habitat_p  habitat_u  habitat_w  \n",
      "380       False      False      False      False      False  \n",
      "3641      False      False      False      False      False  \n",
      "273       False      False      False      False      False  \n",
      "1029      False      False      False      False      False  \n",
      "684       False      False      False      False      False  \n",
      "...         ...        ...        ...        ...        ...  \n",
      "1859      False      False      False      False      False  \n",
      "6181      False      False      False      False      False  \n",
      "6228      False      False      False      False      False  \n",
      "554       False      False      False      False      False  \n",
      "7025      False      False      False      False      False  \n",
      "\n",
      "[2031 rows x 113 columns]\n"
     ]
    },
    {
     "data": {
      "text/plain": [
       "Index(['cap-surface_g'], dtype='object')"
      ]
     },
     "execution_count": 66,
     "metadata": {},
     "output_type": "execute_result"
    }
   ],
   "source": [
    "print(X_trainDum.columns)\n",
    "print(X_testDum.isin(X_trainDum))\n",
    "X_trainDum.columns[~X_trainDum.columns.isin(X_testDum.columns)]"
   ]
  },
  {
   "cell_type": "code",
   "execution_count": 91,
   "metadata": {},
   "outputs": [
    {
     "name": "stdout",
     "output_type": "stream",
     "text": [
      "['p' 'e' 'e' 'p' 'p' 'e' 'e' 'e' 'e' 'e' 'e' 'p' 'e' 'p' 'p' 'p' 'e' 'e'\n",
      " 'p' 'e']\n",
      "5832    True\n",
      "601     True\n",
      "1601    True\n",
      "4941    True\n",
      "7492    True\n",
      "2103    True\n",
      "1421    True\n",
      "7349    True\n",
      "4945    True\n",
      "3464    True\n",
      "3680    True\n",
      "5927    True\n",
      "2455    True\n",
      "5871    True\n",
      "5358    True\n",
      "7409    True\n",
      "2529    True\n",
      "1692    True\n",
      "5336    True\n",
      "3373    True\n",
      "Name: edible, dtype: bool\n"
     ]
    }
   ],
   "source": [
    "#Running the function to see what happens lol ###REMEMBER TO TRY THIS AGAIN WITHOUT DROPPING NA's\n",
    "mnb = MultinomialNB()\n",
    "mnb.fit(X_trainDum,y_train)\n",
    "mnb.get_params()\n",
    "print(mnb.predict(X_trainDum[0:20]))\n",
    "print(y_train[0:20] == mnb.predict(X_trainDum[0:20]))\n",
    "#These two check out. Probably a good enough sample, lets see how it compares with the test data.\n",
    "#Though a problem I'm comprehending from this is that there are a lot of zeros. I don't know if this counts each zero as an instance, or how it works all the way. Still, lets look at accuracy\n",
    " \n",
    "\n"
   ]
  },
  {
   "cell_type": "code",
   "execution_count": 92,
   "metadata": {},
   "outputs": [
    {
     "name": "stdout",
     "output_type": "stream",
     "text": [
      "0.9973740357787625\n"
     ]
    }
   ],
   "source": [
    "#Testing with training data\n",
    "mnb = MultinomialNB()\n",
    "mnb.fit(X_trainDum,y_train)\n",
    "mnb.get_params()\n",
    "labels1 = mnb.predict(X_trainDum)\n",
    "len = y_train.shape[0]\n",
    "prop_correct = sum(labels1[0:len-1] == y_train[0:len-1])/len \n",
    "print(prop_correct)"
   ]
  },
  {
   "cell_type": "code",
   "execution_count": 93,
   "metadata": {},
   "outputs": [
    {
     "name": "stdout",
     "output_type": "stream",
     "text": [
      "0.6745445593303792\n"
     ]
    },
    {
     "name": "stderr",
     "output_type": "stream",
     "text": [
      "/home/thomaswit/.local/lib/python3.8/site-packages/sklearn/base.py:488: FutureWarning: The feature names should match those that were passed during fit. Starting version 1.2, an error will be raised.\n",
      "Feature names must be in the same order as they were in fit.\n",
      "\n",
      "  warnings.warn(message, FutureWarning)\n"
     ]
    }
   ],
   "source": [
    "#Test data time\n",
    "\n",
    "#converting X_test to \n",
    "X_testDum = pd.get_dummies(X_test)\n",
    "# So compared to the data above, this is missing a column ['cap-surface_g'], I will add it with 0's\n",
    "X_testDum['cap-surface_g'] = 0\n",
    "labels = mnb.predict(X_testDum)\n",
    "\n",
    "# for i in range(labels.shape[0]):\n",
    "#     labels[i] == y_test[0:i] \n",
    "len = y_test.shape[0]\n",
    "prop_correct = sum(labels[0:len-1] == y_test[0:len-1])/len \n",
    "print(prop_correct)\n",
    "#Dang that didn't work. \n"
   ]
  }
 ],
 "metadata": {
  "kernelspec": {
   "display_name": "Python 3.8.10 64-bit",
   "language": "python",
   "name": "python3"
  },
  "language_info": {
   "codemirror_mode": {
    "name": "ipython",
    "version": 3
   },
   "file_extension": ".py",
   "mimetype": "text/x-python",
   "name": "python",
   "nbconvert_exporter": "python",
   "pygments_lexer": "ipython3",
   "version": "3.8.10"
  },
  "orig_nbformat": 4,
  "vscode": {
   "interpreter": {
    "hash": "e7370f93d1d0cde622a1f8e1c04877d8463912d04d973331ad4851f04de6915a"
   }
  }
 },
 "nbformat": 4,
 "nbformat_minor": 2
}
