{
 "cells": [
  {
   "cell_type": "code",
   "execution_count": 32,
   "metadata": {
    "collapsed": true,
    "pycharm": {
     "name": "#%%\n"
    }
   },
   "outputs": [],
   "source": [
    "import pandas as pd\n",
    "import re\n",
    "import numpy as np"
   ]
  },
  {
   "cell_type": "code",
   "execution_count": 51,
   "outputs": [],
   "source": [
    "# eeh = pd.read_csv('eeh_newer2.txt', delimiter=' *', engine='python')\n",
    "eeh = pd.read_csv('eeh_newer2.txt')\n",
    "eeh_array = eeh.to_numpy()\n",
    "for i in range(0, eeh_array.shape[0]):\n",
    "    new_row = str(eeh_array[i, :]).split()\n"
   ],
   "metadata": {
    "collapsed": false,
    "pycharm": {
     "name": "#%%\n"
    }
   }
  },
  {
   "cell_type": "code",
   "execution_count": 23,
   "outputs": [
    {
     "data": {
      "text/plain": "     pdb1qdd\n0    pdb1mrp\n1    pdb1nbc\n2    pdb1nkr\n3    pdb1nkr\n4    pdb1nox\n..       ...\n310  pdb8abp\n311  pdb8abp\n312  pdb8abp\n313  pdb8abp\n314  pdb8abp\n\n[315 rows x 1 columns]",
      "text/html": "<div>\n<style scoped>\n    .dataframe tbody tr th:only-of-type {\n        vertical-align: middle;\n    }\n\n    .dataframe tbody tr th {\n        vertical-align: top;\n    }\n\n    .dataframe thead th {\n        text-align: right;\n    }\n</style>\n<table border=\"1\" class=\"dataframe\">\n  <thead>\n    <tr style=\"text-align: right;\">\n      <th></th>\n      <th>pdb1qdd</th>\n    </tr>\n  </thead>\n  <tbody>\n    <tr>\n      <th>0</th>\n      <td>pdb1mrp</td>\n    </tr>\n    <tr>\n      <th>1</th>\n      <td>pdb1nbc</td>\n    </tr>\n    <tr>\n      <th>2</th>\n      <td>pdb1nkr</td>\n    </tr>\n    <tr>\n      <th>3</th>\n      <td>pdb1nkr</td>\n    </tr>\n    <tr>\n      <th>4</th>\n      <td>pdb1nox</td>\n    </tr>\n    <tr>\n      <th>...</th>\n      <td>...</td>\n    </tr>\n    <tr>\n      <th>310</th>\n      <td>pdb8abp</td>\n    </tr>\n    <tr>\n      <th>311</th>\n      <td>pdb8abp</td>\n    </tr>\n    <tr>\n      <th>312</th>\n      <td>pdb8abp</td>\n    </tr>\n    <tr>\n      <th>313</th>\n      <td>pdb8abp</td>\n    </tr>\n    <tr>\n      <th>314</th>\n      <td>pdb8abp</td>\n    </tr>\n  </tbody>\n</table>\n<p>315 rows × 1 columns</p>\n</div>"
     },
     "execution_count": 23,
     "metadata": {},
     "output_type": "execute_result"
    }
   ],
   "source": [
    "pdbs = pd.read_table('all_pdbs.txt')\n",
    "pdbs"
   ],
   "metadata": {
    "collapsed": false,
    "pycharm": {
     "name": "#%%\n"
    }
   }
  },
  {
   "cell_type": "code",
   "execution_count": null,
   "outputs": [],
   "source": [
    "eeh['pdbs'] = ''\n",
    "for i in range(0, eeh.shape[0]):\n",
    "    for j in range(0, pdbs.shape[0]):\n",
    "        for k in range(0, 7):\n",
    "            eeh."
   ],
   "metadata": {
    "collapsed": false,
    "pycharm": {
     "name": "#%%\n"
    }
   }
  }
 ],
 "metadata": {
  "kernelspec": {
   "display_name": "Python 3",
   "language": "python",
   "name": "python3"
  },
  "language_info": {
   "codemirror_mode": {
    "name": "ipython",
    "version": 2
   },
   "file_extension": ".py",
   "mimetype": "text/x-python",
   "name": "python",
   "nbconvert_exporter": "python",
   "pygments_lexer": "ipython2",
   "version": "2.7.6"
  }
 },
 "nbformat": 4,
 "nbformat_minor": 0
}