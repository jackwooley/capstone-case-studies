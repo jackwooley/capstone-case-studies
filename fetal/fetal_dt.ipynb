{
 "cells": [
  {
   "cell_type": "code",
   "execution_count": 1,
   "metadata": {
    "pycharm": {
     "name": "#%%\n"
    }
   },
   "outputs": [],
   "source": [
    "import pandas as pd\n",
    "import numpy as np\n",
    "from sklearn.tree import DecisionTreeClassifier\n",
    "from sklearn.model_selection import train_test_split\n",
    "from sklearn.metrics import r2_score\n",
    "from sklearn.metrics import mean_squared_error\n",
    "from sklearn.metrics import accuracy_score\n"
   ]
  },
  {
   "cell_type": "code",
<<<<<<< HEAD
   "execution_count": 20,
   "metadata": {},
   "outputs": [
    {
     "name": "stdout",
     "output_type": "stream",
     "text": [
      "test\n",
      "working\n",
      "accuracy score of decision tree: 0.92018779342723\n"
     ]
    },
    {
     "data": {
      "image/png": "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",
      "text/plain": [
       "<Figure size 432x288 with 2 Axes>"
      ]
     },
     "metadata": {
      "needs_background": "light"
     },
     "output_type": "display_data"
    }
   ],
   "source": [
    "import pandas as pd\n",
    "import numpy as np\n",
    "import matplotlib.pyplot as plt\n",
    "from sklearn.tree import DecisionTreeClassifier\n",
    "from sklearn.model_selection import train_test_split\n",
    "from sklearn.metrics import r2_score\n",
    "from sklearn.metrics import mean_squared_error\n",
    "from sklearn.metrics import accuracy_score\n",
    "from sklearn.metrics import confusion_matrix, ConfusionMatrixDisplay\n",
    "\n",
    "print('test')\n",
    "def getData():\n",
    "    fetal = pd.read_csv(\"fetal_health.csv\")\n",
    "    # print(fetal.head())\n",
    "    return fetal\n",
    "\n",
    "def split_f_t(dataset, col: str):\n",
    "    y = dataset[col]\n",
    "    x = dataset.drop(col, axis = 1)\n",
    "\n",
    "    return x, y\n",
    "\n",
    "def trainTest(vars, respvar, test_size: float, random_state: int):\n",
    "    x_train, x_test, y_train, y_test = train_test_split(vars,respvar, test_size=test_size, random_state=random_state)\n",
    "    return x_train, x_test, y_train, y_test\n",
    "\n",
    "def create_model_and_preds(x_train, x_test, y_train, y_test):\n",
    "    decisiont = DecisionTreeClassifier()\n",
    "    decisiont = decisiont.fit(x_train, y_train)\n",
    "    y_preds_test = decisiont.predict(x_test)\n",
    "    print(\"accuracy score of decision tree: \" + str(accuracy_score(y_test, y_preds_test)))\n",
    "    cm = confusion_matrix(y_test,y_preds_test, labels = decisiont.classes_)\n",
    "    disp = ConfusionMatrixDisplay(confusion_matrix=cm, display_labels=decisiont.classes_)\n",
    "    disp.plot()\n",
    "    plt.show()\n",
    "    return y_preds_test\n",
    "\n",
    "def main():\n",
    "    fetal = getData()\n",
    "    x, y =split_f_t(fetal,'fetal_health')\n",
    "    xtrain, xtest, ytrain, ytest = trainTest(x, y, .2, 42)\n",
    "    preds = create_model_and_preds(xtrain, xtest, ytrain, ytest)\n",
    "    \n",
    "    return preds\n",
    "\n",
    "if __name__ == '__main__':\n",
    "    print('working')\n",
    "    main()"
   ]
  },
  {
   "cell_type": "code",
   "execution_count": 11,
   "metadata": {},
=======
   "execution_count": 2,
   "metadata": {
    "pycharm": {
     "name": "#%%\n"
    }
   },
>>>>>>> 25e66cbf5feba70992a4fcad630a1d292f077955
   "outputs": [
    {
     "data": {
      "text/plain": "0     2.0\n1     1.0\n2     1.0\n3     1.0\n4     1.0\n5     3.0\n6     3.0\n7     3.0\n8     3.0\n9     3.0\n10    2.0\n11    2.0\n12    1.0\n13    1.0\n14    1.0\n15    1.0\n16    1.0\n17    2.0\n18    1.0\n19    1.0\n20    3.0\n21    1.0\n22    3.0\n23    3.0\n24    3.0\n25    3.0\n26    3.0\n27    3.0\n28    2.0\n29    1.0\n30    1.0\n31    1.0\n32    1.0\n33    1.0\n34    1.0\n35    1.0\n36    1.0\n37    1.0\n38    1.0\n39    1.0\n40    1.0\n41    1.0\n42    1.0\n43    1.0\n44    1.0\n45    1.0\n46    1.0\n47    1.0\n48    1.0\n49    1.0\nName: fetal_health, dtype: float64"
     },
     "execution_count": 2,
     "metadata": {},
     "output_type": "execute_result"
    }
   ],
   "source": [
    "fetal = pd.read_csv(\"fetal_health.csv\")\n",
    "fetal.head()\n",
    "fetal['fetal_health'][0:50]"
   ]
  },
  {
   "cell_type": "code",
   "execution_count": 3,
   "metadata": {
    "pycharm": {
     "name": "#%%\n"
    }
   },
   "outputs": [],
   "source": [
    "# Check Cross validation if I have time\n",
    "ycol = 'fetal_health'\n",
    "y = fetal[ycol]\n",
    "x = fetal.drop(ycol, axis = 1)"
   ]
  },
  {
   "cell_type": "code",
   "execution_count": 4,
   "metadata": {
    "pycharm": {
     "name": "#%%\n"
    }
   },
   "outputs": [],
   "source": [
    "# train test split\n",
    "x_train, x_test, y_train, y_test = train_test_split(x,y, random_state=1)\n",
    "\n",
    "#Creating decision tree\n",
    "decisiont = DecisionTreeClassifier()\n",
    "decisiont = decisiont.fit(x_train, y_train)"
   ]
  },
  {
   "cell_type": "code",
   "execution_count": 5,
   "metadata": {
    "pycharm": {
     "name": "#%%\n"
    }
   },
   "outputs": [
    {
     "name": "stdout",
     "output_type": "stream",
     "text": [
      "0.9993726474278545\n"
     ]
    }
   ],
   "source": [
    "#See how this did on trainng data\n",
    "y_preds = decisiont.predict(x_train)\n",
    "print(accuracy_score(y_train, y_preds))"
   ]
  },
  {
   "cell_type": "code",
   "execution_count": 6,
   "metadata": {
    "pycharm": {
     "name": "#%%\n"
    }
   },
   "outputs": [
    {
     "name": "stdout",
     "output_type": "stream",
     "text": [
      "accuracy of decision tree: 0.9060150375939849\n"
     ]
    }
   ],
   "source": [
    "# See how this did on the test data\n",
    "y_preds_test = decisiont.predict(x_test)\n",
    "print(\"accuracy of decision tree: \" + str(accuracy_score(y_test, y_preds_test)))\n",
    "    "
   ]
  },
  {
   "cell_type": "code",
   "execution_count": null,
   "metadata": {
    "pycharm": {
     "name": "#%%\n"
    }
   },
   "outputs": [],
   "source": []
  }
 ],
 "metadata": {
  "kernelspec": {
   "display_name": "Python 3.8.10 64-bit",
   "language": "python",
   "name": "python3"
  },
  "language_info": {
   "codemirror_mode": {
    "name": "ipython",
    "version": 3
   },
   "file_extension": ".py",
   "mimetype": "text/x-python",
   "name": "python",
   "nbconvert_exporter": "python",
   "pygments_lexer": "ipython3",
   "version": "3.8.10"
  },
  "orig_nbformat": 4,
  "vscode": {
   "interpreter": {
    "hash": "e7370f93d1d0cde622a1f8e1c04877d8463912d04d973331ad4851f04de6915a"
   }
  }
 },
 "nbformat": 4,
 "nbformat_minor": 2
}